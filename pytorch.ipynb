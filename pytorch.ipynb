{
  "nbformat": 4,
  "nbformat_minor": 0,
  "metadata": {
    "colab": {
      "name": "pytorch.ipynb",
      "provenance": [],
      "authorship_tag": "ABX9TyM55mL9OGM+DwCVl0xN6owl",
      "include_colab_link": true
    },
    "kernelspec": {
      "name": "python3",
      "display_name": "Python 3"
    },
    "language_info": {
      "name": "python"
    },
    "accelerator": "GPU"
  },
  "cells": [
    {
      "cell_type": "markdown",
      "metadata": {
        "id": "view-in-github",
        "colab_type": "text"
      },
      "source": [
        "<a href=\"https://colab.research.google.com/github/rookery2401/testRepository/blob/main/pytorch.ipynb\" target=\"_parent\"><img src=\"https://colab.research.google.com/assets/colab-badge.svg\" alt=\"Open In Colab\"/></a>"
      ]
    },
    {
      "cell_type": "code",
      "metadata": {
        "id": "tJP7CvD2QYD_"
      },
      "source": [
        "#　準備\n",
        "import torch\n",
        "import torch.nn as nn\n",
        "import torch.nn.functional as F\n",
        "from sklearn.datasets import load_breast_cancer"
      ],
      "execution_count": 1,
      "outputs": []
    },
    {
      "cell_type": "code",
      "metadata": {
        "colab": {
          "base_uri": "https://localhost:8080/"
        },
        "id": "3wbsOGxqrYl1",
        "outputId": "4ade2651-9f68-4b10-c160-27b731132c10"
      },
      "source": [
        "# データの読み込み\n",
        "breast_cancer = load_breast_cancer()\n",
        "x = breast_cancer['data']\n",
        "t = breast_cancer['target']\n",
        "x.shape, t.shape"
      ],
      "execution_count": 2,
      "outputs": [
        {
          "output_type": "execute_result",
          "data": {
            "text/plain": [
              "((569, 30), (569,))"
            ]
          },
          "metadata": {
            "tags": []
          },
          "execution_count": 2
        }
      ]
    },
    {
      "cell_type": "code",
      "metadata": {
        "id": "b0TicCblrfe9"
      },
      "source": [
        "# テンソル型に変換\n",
        "x = torch.tensor(x, dtype=torch.float32)\n",
        "t = torch.tensor(t, dtype=torch.int64)"
      ],
      "execution_count": 3,
      "outputs": []
    },
    {
      "cell_type": "code",
      "metadata": {
        "id": "0Fom9kzArgAZ"
      },
      "source": [
        "# データセットの用意\n",
        "dataset = torch.utils.data.TensorDataset(x, t)"
      ],
      "execution_count": 4,
      "outputs": []
    },
    {
      "cell_type": "code",
      "metadata": {
        "id": "MMOmzN9OrgEE"
      },
      "source": [
        "# データセットを訓練用と検証用とテスト用にランダムに分割\n",
        "n_train = int(len(dataset)*0.6)\n",
        "n_val = int(len(dataset)*0.2)\n",
        "n_test = len(dataset) - n_train - n_val\n",
        "\n",
        "torch.manual_seed(0) #　再現性の確保\n",
        "train, val, test = torch.utils.data.random_split(dataset, [n_train, n_val, n_test])"
      ],
      "execution_count": 5,
      "outputs": []
    },
    {
      "cell_type": "code",
      "metadata": {
        "id": "I3ekxtdorgHQ"
      },
      "source": [
        "#　データローダーの用意\n",
        "torch.manual_seed(0)\n",
        "batch_size = 10\n",
        "train_loader = torch.utils.data.DataLoader(train, batch_size, shuffle=True, drop_last=True)\n",
        "val_loader = torch.utils.data.DataLoader(val, batch_size)\n",
        "test_loader = torch.utils.data.DataLoader(test, batch_size)"
      ],
      "execution_count": 6,
      "outputs": []
    },
    {
      "cell_type": "code",
      "metadata": {
        "id": "Tc07zJifrgKG"
      },
      "source": [
        "# ネットワークの構築\n",
        "class Net(nn.Module):\n",
        "    def __init__(self):\n",
        "        super().__init__()\n",
        "        self.fc1 = nn.Linear(30, 10)\n",
        "        self.bn1 = nn.BatchNorm1d(10)\n",
        "        self.fc2 = nn.Linear(10, 2)\n",
        "    \n",
        "    def forward(self, x):\n",
        "        h = self.fc1(x)\n",
        "        h = F.relu(h)\n",
        "        h = self.bn1(h)\n",
        "        h = self.fc2(h)\n",
        "        return h"
      ],
      "execution_count": 10,
      "outputs": []
    },
    {
      "cell_type": "code",
      "metadata": {
        "colab": {
          "base_uri": "https://localhost:8080/",
          "height": 34
        },
        "id": "-gNgJBAXvhzN",
        "outputId": "bad37e6f-0bea-4922-bfea-3498a4fe2563"
      },
      "source": [
        "device = 'cuda' if torch.cuda.is_available else 'cpu'\n",
        "device"
      ],
      "execution_count": 8,
      "outputs": [
        {
          "output_type": "execute_result",
          "data": {
            "application/vnd.google.colaboratory.intrinsic+json": {
              "type": "string"
            },
            "text/plain": [
              "'cuda'"
            ]
          },
          "metadata": {
            "tags": []
          },
          "execution_count": 8
        }
      ]
    },
    {
      "cell_type": "code",
      "metadata": {
        "id": "CjPKnNikwZwm"
      },
      "source": [
        "def calc_accuracy(pred, target):\n",
        "    pred = torch.argmax(pred, dim=1)\n",
        "    accuracy = (pred==target).sum().float()\n",
        "    return accuracy"
      ],
      "execution_count": 15,
      "outputs": []
    },
    {
      "cell_type": "code",
      "metadata": {
        "colab": {
          "base_uri": "https://localhost:8080/"
        },
        "id": "_67MOJ0WrgNb",
        "outputId": "0dc175d3-66ee-4d85-9c3d-c0c4aea1d77e"
      },
      "source": [
        "#　訓練\n",
        "net = Net().to(device)\n",
        "optimizer = torch.optim.Adam(net.parameters(), lr=0.01)\n",
        "\n",
        "max_epochs = 1\n",
        "for epoch in range(max_epochs):\n",
        "    for batch in train_loader:\n",
        "        x, t = batch\n",
        "        x = x.to(device)\n",
        "        t = t.to(device)\n",
        "        y = net(x)\n",
        "        loss = F.cross_entropy(y, t)\n",
        "        accuracy = calc_accuracy(y, t) / len(t)\n",
        "        print('loss: {:.2f}, accuracy: {:.2f}'.format(loss, accuracy))\n",
        "        optimizer.zero_grad()\n",
        "        loss.backward()\n",
        "        optimizer.step()"
      ],
      "execution_count": 18,
      "outputs": [
        {
          "output_type": "stream",
          "text": [
            "loss: 0.38, accuracy: 1.00\n",
            "loss: 0.43, accuracy: 0.90\n",
            "loss: 0.40, accuracy: 0.80\n",
            "loss: 0.27, accuracy: 1.00\n",
            "loss: 0.39, accuracy: 0.80\n",
            "loss: 0.31, accuracy: 1.00\n",
            "loss: 0.31, accuracy: 0.90\n",
            "loss: 0.41, accuracy: 0.80\n",
            "loss: 0.55, accuracy: 0.70\n",
            "loss: 0.66, accuracy: 0.60\n",
            "loss: 0.47, accuracy: 0.70\n",
            "loss: 0.21, accuracy: 0.90\n",
            "loss: 0.36, accuracy: 0.80\n",
            "loss: 0.17, accuracy: 0.90\n",
            "loss: 0.46, accuracy: 0.70\n",
            "loss: 0.43, accuracy: 0.70\n",
            "loss: 1.17, accuracy: 0.40\n",
            "loss: 0.61, accuracy: 0.70\n",
            "loss: 0.15, accuracy: 1.00\n",
            "loss: 0.19, accuracy: 0.90\n",
            "loss: 0.44, accuracy: 0.80\n",
            "loss: 0.08, accuracy: 1.00\n",
            "loss: 0.19, accuracy: 0.90\n",
            "loss: 0.22, accuracy: 0.90\n",
            "loss: 0.15, accuracy: 1.00\n",
            "loss: 0.15, accuracy: 1.00\n",
            "loss: 0.22, accuracy: 0.90\n",
            "loss: 0.12, accuracy: 1.00\n",
            "loss: 1.26, accuracy: 0.70\n",
            "loss: 0.13, accuracy: 1.00\n",
            "loss: 0.23, accuracy: 0.90\n",
            "loss: 0.23, accuracy: 0.90\n",
            "loss: 0.25, accuracy: 0.80\n",
            "loss: 0.16, accuracy: 1.00\n"
          ],
          "name": "stdout"
        }
      ]
    },
    {
      "cell_type": "code",
      "metadata": {
        "id": "AtE7wvS5rgQd"
      },
      "source": [
        ""
      ],
      "execution_count": null,
      "outputs": []
    },
    {
      "cell_type": "code",
      "metadata": {
        "id": "8xgLHuNHrgTv"
      },
      "source": [
        ""
      ],
      "execution_count": null,
      "outputs": []
    },
    {
      "cell_type": "code",
      "metadata": {
        "id": "DRmQknKFrgW8"
      },
      "source": [
        ""
      ],
      "execution_count": null,
      "outputs": []
    },
    {
      "cell_type": "code",
      "metadata": {
        "id": "X6nC8PMLrgaG"
      },
      "source": [
        ""
      ],
      "execution_count": null,
      "outputs": []
    },
    {
      "cell_type": "code",
      "metadata": {
        "id": "B4ZCKuU5rgdU"
      },
      "source": [
        ""
      ],
      "execution_count": null,
      "outputs": []
    },
    {
      "cell_type": "code",
      "metadata": {
        "id": "vm6DdA-Trggg"
      },
      "source": [
        ""
      ],
      "execution_count": null,
      "outputs": []
    },
    {
      "cell_type": "code",
      "metadata": {
        "id": "a4x7qlZJrgjm"
      },
      "source": [
        ""
      ],
      "execution_count": null,
      "outputs": []
    },
    {
      "cell_type": "code",
      "metadata": {
        "id": "lSbHbrrArgmy"
      },
      "source": [
        ""
      ],
      "execution_count": null,
      "outputs": []
    },
    {
      "cell_type": "code",
      "metadata": {
        "id": "ibB-x-jfrgqH"
      },
      "source": [
        ""
      ],
      "execution_count": null,
      "outputs": []
    },
    {
      "cell_type": "code",
      "metadata": {
        "id": "7b1SNu-UrgtQ"
      },
      "source": [
        ""
      ],
      "execution_count": null,
      "outputs": []
    },
    {
      "cell_type": "code",
      "metadata": {
        "id": "c55z2eyrrgwh"
      },
      "source": [
        ""
      ],
      "execution_count": null,
      "outputs": []
    },
    {
      "cell_type": "code",
      "metadata": {
        "id": "G_rdnJRyrgzx"
      },
      "source": [
        ""
      ],
      "execution_count": null,
      "outputs": []
    },
    {
      "cell_type": "code",
      "metadata": {
        "id": "dyJYjCELrg3I"
      },
      "source": [
        ""
      ],
      "execution_count": null,
      "outputs": []
    },
    {
      "cell_type": "code",
      "metadata": {
        "id": "LB8L_rDfrg6W"
      },
      "source": [
        ""
      ],
      "execution_count": null,
      "outputs": []
    },
    {
      "cell_type": "code",
      "metadata": {
        "id": "EVcjWyXorg9a"
      },
      "source": [
        ""
      ],
      "execution_count": null,
      "outputs": []
    },
    {
      "cell_type": "code",
      "metadata": {
        "id": "qsh8e0zDrhAw"
      },
      "source": [
        ""
      ],
      "execution_count": null,
      "outputs": []
    },
    {
      "cell_type": "code",
      "metadata": {
        "id": "JB8LhTM-rhD3"
      },
      "source": [
        ""
      ],
      "execution_count": null,
      "outputs": []
    }
  ]
}